{
 "cells": [
  {
   "cell_type": "code",
   "execution_count": 1,
   "metadata": {},
   "outputs": [],
   "source": [
    "import numpy as np\n",
    "import pandas as pd\n",
    "import matplotlib.pyplot as plt\n",
    "import seaborn as sns\n",
    "import os"
   ]
  },
  {
   "cell_type": "code",
   "execution_count": 2,
   "metadata": {},
   "outputs": [
    {
     "name": "stdout",
     "output_type": "stream",
     "text": [
      "train (12011833, 18)\n",
      "preprocessed_data['myInput'].shape =  (12011833, 18)\n"
     ]
    }
   ],
   "source": [
    "preprocessed_data = {}\n",
    "filesDatas = []\n",
    "data = {1:{'train': 'train.csv'}}\n",
    "for k, v in data.items():\n",
    "    for file_name, file_content in v.items():\n",
    "        pb_data = pd.read_csv(file_content)\n",
    "        input_data = np.array(pb_data.get_values()[:,0:18], dtype=np.float32)\n",
    "        print(file_name, input_data.shape)\n",
    "        filesDatas.append(input_data)\n",
    "\n",
    "filesDatas = np.concatenate(filesDatas, axis=0)\n",
    "filesDatas = np.array(filesDatas, dtype=np.float32).reshape(-1, 18)\n",
    "\n",
    "preprocessed_data['myInput'] = filesDatas\n",
    "print(\"preprocessed_data[\\'myInput\\'].shape = \", preprocessed_data['myInput'].shape)\n"
   ]
  },
  {
   "cell_type": "code",
   "execution_count": 3,
   "metadata": {},
   "outputs": [
    {
     "data": {
      "text/plain": [
       "(12011833, 18)"
      ]
     },
     "execution_count": 3,
     "metadata": {},
     "output_type": "execute_result"
    }
   ],
   "source": [
    "origin_data = pd.DataFrame(preprocessed_data['myInput'])\n",
    "data = origin_data\n",
    "data.columns = ['Cell Index','Cell X','Cell Y','Height','Azimuth','Electrical Downtilt','Mechanical Downtilt',\n",
    "                'Frequency Band','RS Power','Cell Altitude','Cell Building Height','Cell Clutter Index',\n",
    "                'X','Y','Altitude','Building Height','Clutter Index','RSRP']\n",
    "data.shape"
   ]
  },
  {
   "cell_type": "code",
   "execution_count": 4,
   "metadata": {},
   "outputs": [
    {
     "data": {
      "text/plain": [
       "\"\\ndata = data[data['Height'] != 0]\\n## 垂直下倾角\\ndata['downtilt'] = data['Electrical Downtilt'] + data['Mechanical Downtilt']\\n## 水平差角\\ndata['h_theta'] = 90 - np.rad2deg(np.arctan2(data['Y'] - data['Cell Y'], data['X'] - data['Cell X'])) - data['Azimuth']\\ndata['h_theta'] = np.where(data['h_theta'] > 180, data['h_theta'] - 360, data['h_theta'])\\ndata['h_theta'] = np.where(data['h_theta'] > 180, data['h_theta'] - 360, data['h_theta'])\\ndata['h_theta'] = np.where(data['h_theta'] < -180, data['h_theta'] + 360, data['h_theta'])\\ndata['h_theta'] = np.where(data['h_theta'] < -180, data['h_theta'] + 360, data['h_theta'])\\n# data = data[np.abs(data['h_theta']) < 90]\\ndata['distance'] = ((data['X'] - data['Cell X']) ** 2 + (data['Y'] - data['Cell Y']) ** 2) ** 0.5\\ndata = data[data['distance'] * np.cos(np.deg2rad(data['h_theta'])) <= data['Height'] / np.tan(np.deg2rad(data['downtilt'])) * 1.5]\\n# data = data[data['distance'] * np.cos(np.deg2rad(data['h_theta'])) <= 500]\\n## 相对海拔高度\\ndata['delta_altitude'] = data['Altitude'] - data['Cell Altitude']\\n## deltaHv\\ndata['deltaHv'] = data['Height'] - np.tan(np.deg2rad(data['downtilt'])) * data['distance'] * np.cos(np.deg2rad(data['h_theta']))\\n## 垂线距离\\ndata['direct_distance'] = ((np.abs(data['deltaHv']) * np.cos(np.deg2rad(data['downtilt']))) ** 2 + (data['distance'] * np.sin(np.deg2rad(data['h_theta']))) ** 2) ** 0.5\\n## 传播距离\\ndata['pass_distance'] = (np.abs(data['deltaHv'] ** 2 + data['distance'] ** 2 - data['direct_distance'] ** 2)) ** 0.5\\ndata.shape\\n\\ndata['Height'] = np.log10(data['Height'])\\n\\ndata['Frequency Band'] = np.log10(data['Frequency Band'])\\n\\ndata = data[data['distance'] != 0]\\ndata['distance'] = np.log10(data['distance'])\\n\\ndata = data[data['direct_distance'] != 0]\\ndata['direct_distance'] = np.log10(data['direct_distance'])\\n\\ndata = data[data['pass_distance'] != 0]\\ndata['pass_distance'] = np.log10(data['pass_distance'])\\n\\n## cost231Hata\\n# data['cost231Hata'] = 46.3 + 33.9 * data['Frequency Band'] - 13.82 * data['Height'] + (44.9 - 6.55 * data['Frequency Band']) * data['distance']\\n\\n# data = data.drop(['Frequency Band', 'RS Power', 'Cell Index', 'Cell X', 'Cell Y', 'Azimuth', 'Electrical Downtilt', 'Mechanical Downtilt', 'X', 'Y', 'Altitude', 'Cell Altitude', 'h_theta', 'downtilt'], axis = 1)\\ndata['Cell Building Height'] = np.where(data['Cell Building Height'] > 0, 1, 0)\\ndata['Building Height'] = np.where(data['Building Height'] > 0, 1, 0)\\ndata.head()\\n\""
      ]
     },
     "execution_count": 4,
     "metadata": {},
     "output_type": "execute_result"
    }
   ],
   "source": [
    "'''\n",
    "data = data[data['Height'] != 0]\n",
    "## 垂直下倾角\n",
    "data['downtilt'] = data['Electrical Downtilt'] + data['Mechanical Downtilt']\n",
    "## 水平差角\n",
    "data['h_theta'] = 90 - np.rad2deg(np.arctan2(data['Y'] - data['Cell Y'], data['X'] - data['Cell X'])) - data['Azimuth']\n",
    "data['h_theta'] = np.where(data['h_theta'] > 180, data['h_theta'] - 360, data['h_theta'])\n",
    "data['h_theta'] = np.where(data['h_theta'] > 180, data['h_theta'] - 360, data['h_theta'])\n",
    "data['h_theta'] = np.where(data['h_theta'] < -180, data['h_theta'] + 360, data['h_theta'])\n",
    "data['h_theta'] = np.where(data['h_theta'] < -180, data['h_theta'] + 360, data['h_theta'])\n",
    "# data = data[np.abs(data['h_theta']) < 90]\n",
    "data['distance'] = ((data['X'] - data['Cell X']) ** 2 + (data['Y'] - data['Cell Y']) ** 2) ** 0.5\n",
    "data = data[data['distance'] * np.cos(np.deg2rad(data['h_theta'])) <= data['Height'] / np.tan(np.deg2rad(data['downtilt'])) * 1.5]\n",
    "# data = data[data['distance'] * np.cos(np.deg2rad(data['h_theta'])) <= 500]\n",
    "## 相对海拔高度\n",
    "data['delta_altitude'] = data['Altitude'] - data['Cell Altitude']\n",
    "## deltaHv\n",
    "data['deltaHv'] = data['Height'] - np.tan(np.deg2rad(data['downtilt'])) * data['distance'] * np.cos(np.deg2rad(data['h_theta']))\n",
    "## 垂线距离\n",
    "data['direct_distance'] = ((np.abs(data['deltaHv']) * np.cos(np.deg2rad(data['downtilt']))) ** 2 + (data['distance'] * np.sin(np.deg2rad(data['h_theta']))) ** 2) ** 0.5\n",
    "## 传播距离\n",
    "data['pass_distance'] = (np.abs(data['deltaHv'] ** 2 + data['distance'] ** 2 - data['direct_distance'] ** 2)) ** 0.5\n",
    "data.shape\n",
    "\n",
    "data['Height'] = np.log10(data['Height'])\n",
    "\n",
    "data['Frequency Band'] = np.log10(data['Frequency Band'])\n",
    "\n",
    "data = data[data['distance'] != 0]\n",
    "data['distance'] = np.log10(data['distance'])\n",
    "\n",
    "data = data[data['direct_distance'] != 0]\n",
    "data['direct_distance'] = np.log10(data['direct_distance'])\n",
    "\n",
    "data = data[data['pass_distance'] != 0]\n",
    "data['pass_distance'] = np.log10(data['pass_distance'])\n",
    "\n",
    "## cost231Hata\n",
    "# data['cost231Hata'] = 46.3 + 33.9 * data['Frequency Band'] - 13.82 * data['Height'] + (44.9 - 6.55 * data['Frequency Band']) * data['distance']\n",
    "\n",
    "# data = data.drop(['Frequency Band', 'RS Power', 'Cell Index', 'Cell X', 'Cell Y', 'Azimuth', 'Electrical Downtilt', 'Mechanical Downtilt', 'X', 'Y', 'Altitude', 'Cell Altitude', 'h_theta', 'downtilt'], axis = 1)\n",
    "data['Cell Building Height'] = np.where(data['Cell Building Height'] > 0, 1, 0)\n",
    "data['Building Height'] = np.where(data['Building Height'] > 0, 1, 0)\n",
    "data.head()\n",
    "'''"
   ]
  },
  {
   "cell_type": "code",
   "execution_count": 5,
   "metadata": {},
   "outputs": [
    {
     "data": {
      "text/plain": [
       "(12011833, 18)"
      ]
     },
     "execution_count": 5,
     "metadata": {},
     "output_type": "execute_result"
    }
   ],
   "source": [
    "data.shape"
   ]
  },
  {
   "cell_type": "code",
   "execution_count": 6,
   "metadata": {
    "scrolled": true
   },
   "outputs": [
    {
     "data": {
      "text/plain": [
       "(12011833, 26)"
      ]
     },
     "execution_count": 6,
     "metadata": {},
     "output_type": "execute_result"
    }
   ],
   "source": [
    "data['Height'] = np.where(data['Height'] == 0, 22, data['Height'])\n",
    "data['downtilt'] = data['Electrical Downtilt'] + data['Mechanical Downtilt']\n",
    "data['h_theta'] = 90 - np.rad2deg(np.arctan2(data['Y'] - data['Cell Y'], data['X'] - data['Cell X'])) - data['Azimuth']\n",
    "data['h_theta'] = np.where(data['h_theta'] > 180, data['h_theta'] - 360, data['h_theta'])\n",
    "data['h_theta'] = np.where(data['h_theta'] > 180, data['h_theta'] - 360, data['h_theta'])\n",
    "data['h_theta'] = np.where(data['h_theta'] < -180, data['h_theta'] + 360, data['h_theta'])\n",
    "data['h_theta'] = np.where(data['h_theta'] < -180, data['h_theta'] + 360, data['h_theta'])\n",
    "data['distance'] = ((data['X'] - data['Cell X']) ** 2 + (data['Y'] - data['Cell Y']) ** 2) ** 0.5\n",
    "data['delta_altitude'] = data['Altitude'] - data['Cell Altitude']\n",
    "data['deltaHv'] = data['Height'] - np.tan(np.deg2rad(data['downtilt'])) * data['distance'] * np.cos(np.deg2rad(data['h_theta']))\n",
    "data['direct_distance'] = ((np.abs(data['deltaHv']) * np.cos(np.deg2rad(data['downtilt']))) ** 2 + (data['distance'] * np.sin(np.deg2rad(data['h_theta']))) ** 2) ** 0.5\n",
    "data['pass_distance'] = (np.abs(data['deltaHv'] ** 2 + data['distance'] ** 2 - data['direct_distance'] ** 2)) ** 0.5\n",
    "data['Height'] = np.log10(data['Height'])\n",
    "data['Frequency Band'] = np.log10(data['Frequency Band'])\n",
    "data['distance'] = np.log10(data['distance'] + 1)\n",
    "data['height_mul_distance'] = data['Height'] * data['distance']\n",
    "data['direct_distance'] = np.log10(data['direct_distance'] + 1)\n",
    "data['pass_distance'] = np.log10(data['pass_distance'] + 1)\n",
    "data['Cell Building Height'] = np.where(data['Cell Building Height'] > 0, 1, 0)\n",
    "data['Building Height'] = np.where(data['Building Height'] > 0, 1, 0)\n",
    "data.shape"
   ]
  },
  {
   "cell_type": "code",
   "execution_count": 7,
   "metadata": {
    "scrolled": true
   },
   "outputs": [
    {
     "data": {
      "text/plain": [
       "(12011833, 9)"
      ]
     },
     "execution_count": 7,
     "metadata": {},
     "output_type": "execute_result"
    }
   ],
   "source": [
    "data = data.drop(['Frequency Band', 'Cell Building Height', 'Cell Clutter Index', 'Clutter Index', 'Building Height', 'RS Power', 'Cell Index', 'Cell X', 'Cell Y', 'Azimuth', 'Electrical Downtilt', 'Mechanical Downtilt', 'X', 'Y', 'Altitude', 'Cell Altitude', 'downtilt'], axis = 1)\n",
    "data.shape"
   ]
  },
  {
   "cell_type": "code",
   "execution_count": 8,
   "metadata": {},
   "outputs": [],
   "source": [
    "data = data.drop(['deltaHv', 'h_theta', 'delta_altitude', 'Height'], axis = 1)"
   ]
  },
  {
   "cell_type": "code",
   "execution_count": 9,
   "metadata": {
    "scrolled": false
   },
   "outputs": [
    {
     "data": {
      "image/png": "[encoded data removed]",
      "text/plain": [
       "<Figure size 1440x1440 with 2 Axes>"
      ]
     },
     "metadata": {},
     "output_type": "display_data"
    }
   ],
   "source": [
    "corrmat = data.corr()\n",
    "fig = plt.figure(figsize=(20,20))\n",
    "#correlation matrix\n",
    "k = 50 #number of variables for heatmap\n",
    "cols = corrmat.nlargest(k, 'RSRP')['RSRP'].index\n",
    "cm = np.corrcoef(data[cols].values.T)\n",
    "sns.set(font_scale=1)\n",
    "hm = sns.heatmap(cm, cbar=True, annot=True, square=True, fmt='.2f', annot_kws={'size': 10}, yticklabels=cols.values, xticklabels=cols.values)\n",
    "plt.show()"
   ]
  },
  {
   "cell_type": "code",
   "execution_count": null,
   "metadata": {
    "scrolled": true
   },
   "outputs": [],
   "source": [
    "from sklearn.model_selection import train_test_split\n",
    "from sklearn.preprocessing import StandardScaler\n",
    "\n",
    "from sklearn.linear_model import LinearRegression\n",
    "from sklearn.neighbors import KNeighborsRegressor\n",
    "from sklearn.svm import SVR\n",
    "from sklearn.linear_model import Lasso\n",
    "from sklearn.linear_model import Ridge\n",
    "from sklearn.neural_network import MLPRegressor\n",
    "from sklearn.tree import DecisionTreeRegressor\n",
    "from sklearn.tree import ExtraTreeRegressor\n",
    "from sklearn.ensemble import RandomForestRegressor\n",
    "from sklearn.ensemble import AdaBoostRegressor\n",
    "from sklearn.ensemble import GradientBoostingRegressor\n",
    "from sklearn.ensemble import BaggingRegressor\n",
    "\n",
    "from sklearn.metrics import mean_squared_error\n",
    "\n",
    "x_train = data.drop(['RSRP'],axis=1).iloc[:10000000]\n",
    "x_test = data.drop(['RSRP'],axis=1).iloc[10000000:]\n",
    "y_train = data['RSRP'].iloc[:10000000]\n",
    "y_test = data['RSRP'].iloc[10000000:]\n",
    "\n",
    "#label = data['RSRP']\n",
    "#train = data.drop(['RSRP'],axis=1)\n",
    "#x_train, x_test, y_train, y_test = train_test_split(train, label, test_size = 0.01, random_state = 1)\n",
    "model = DecisionTreeRegressor()   #建立模型\n",
    "model.fit(x_train,y_train)\n",
    "y_pred = model.predict(x_test)  \n",
    "score = model.score(x_test,y_test)\n",
    "print(np.sqrt(mean_squared_error(y_test,y_pred)))"
   ]
  },
  {
   "cell_type": "code",
   "execution_count": null,
   "metadata": {},
   "outputs": [],
   "source": [
    "from sklearn.metrics import mean_squared_error,mean_absolute_error,r2_score\n",
    "mse = mean_squared_error(y_test, y_pred)\n",
    "rmse = mse ** 0.5\n",
    "mae = mean_absolute_error(y_test, y_pred)\n",
    "r2 = r2_score(y_test,y_pred)\n",
    "print(\"MSE: \",mse)\n",
    "print(\"RMSE: \",rmse)\n",
    "print(\"MAE: \",mae)\n",
    "print(\"R2: \",r2)"
   ]
  },
  {
   "cell_type": "code",
   "execution_count": null,
   "metadata": {},
   "outputs": [],
   "source": [
    "data.shape"
   ]
  },
  {
   "cell_type": "code",
   "execution_count": null,
   "metadata": {},
   "outputs": [],
   "source": [
    "def calculate_pcrr(y_true, y_pred):\n",
    "    t = -103\n",
    "    tp = len(y_true[(y_true < t) & (y_pred < t)])\n",
    "    fp = len(y_true[(y_true >= t) & (y_pred < t)])\n",
    "    fn = len(y_true[(y_true < t) & (y_pred >= t)])\n",
    "    precision = tp/(tp+fp)\n",
    "    recall = tp/(tp+fn)\n",
    "    pcrr = 2*(precision*recall)/(precision + recall)\n",
    "    return pcrr\n",
    "pcrr = calculate_pcrr(y_test,y_pred)  \n",
    "print(pcrr)"
   ]
  },
  {
   "cell_type": "code",
   "execution_count": null,
   "metadata": {},
   "outputs": [],
   "source": [
    "import pickle\n",
    "fw = open('model_dt','wb')\n",
    "pickle.dump(model,fw)\n",
    "fw.close()"
   ]
  },
  {
   "cell_type": "code",
   "execution_count": null,
   "metadata": {},
   "outputs": [],
   "source": [
    "from sklearn.externals import joblib\n",
    "# joblib.dump(model, \"model\")\n",
    "# clf = joblib.load(\"train_model.m\")"
   ]
  },
  {
   "cell_type": "code",
   "execution_count": null,
   "metadata": {},
   "outputs": [],
   "source": [
    "y_pred"
   ]
  },
  {
   "cell_type": "code",
   "execution_count": null,
   "metadata": {},
   "outputs": [],
   "source": [
    "import pickle\n",
    "from sklearn.externals import joblib\n",
    "fr = open('model_rf','rb')\n",
    "#model = pickle.load(fr)\n",
    "model = joblib.load(\"model_rf\")"
   ]
  },
  {
   "cell_type": "code",
   "execution_count": null,
   "metadata": {},
   "outputs": [],
   "source": [
    "y_pred = model.predict(x_test)  \n",
    "score = model.score(x_test,y_test)\n",
    "print(np.sqrt(mean_squared_error(y_test,y_pred)))"
   ]
  },
  {
   "cell_type": "code",
   "execution_count": null,
   "metadata": {},
   "outputs": [],
   "source": [
    "output_dict = {}\n",
    "output_dict['myInput'] = y_pred"
   ]
  },
  {
   "cell_type": "code",
   "execution_count": null,
   "metadata": {},
   "outputs": [],
   "source": [
    "x_test.shape"
   ]
  },
  {
   "cell_type": "code",
   "execution_count": null,
   "metadata": {},
   "outputs": [],
   "source": [
    "np.array(y_pred, dtype=np.float32).reshape(-1,1).shape"
   ]
  },
  {
   "cell_type": "code",
   "execution_count": null,
   "metadata": {},
   "outputs": [],
   "source": [
    "y_pred = np.mat(np.array(y_pred, dtype=np.float32))"
   ]
  },
  {
   "cell_type": "code",
   "execution_count": null,
   "metadata": {},
   "outputs": [],
   "source": [
    "y_pred"
   ]
  },
  {
   "cell_type": "code",
   "execution_count": null,
   "metadata": {},
   "outputs": [],
   "source": [
    "data.head()"
   ]
  },
  {
   "cell_type": "code",
   "execution_count": null,
   "metadata": {},
   "outputs": [],
   "source": []
  }
 ],
 "metadata": {
  "kernelspec": {
   "display_name": "Python 3",
   "language": "python",
   "name": "python3"
  },
  "language_info": {
   "codemirror_mode": {
    "name": "ipython",
    "version": 3
   },
   "file_extension": ".py",
   "mimetype": "text/x-python",
   "name": "python",
   "nbconvert_exporter": "python",
   "pygments_lexer": "ipython3",
   "version": "3.6.5"
  }
 },
 "nbformat": 4,
 "nbformat_minor": 2
}
