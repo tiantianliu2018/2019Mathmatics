{
 "cells": [
  {
   "cell_type": "code",
   "execution_count": 1,
   "metadata": {},
   "outputs": [],
   "source": [
    "import numpy as np\n",
    "import pandas as pd\n",
    "import matplotlib.pyplot as plt\n",
    "import seaborn as sns\n",
    "%matplotlib inline"
   ]
  },
  {
   "cell_type": "code",
   "execution_count": 2,
   "metadata": {},
   "outputs": [
    {
     "data": {
      "text/html": [
       "<div>\n",
       "<style scoped>\n",
       "    .dataframe tbody tr th:only-of-type {\n",
       "        vertical-align: middle;\n",
       "    }\n",
       "\n",
       "    .dataframe tbody tr th {\n",
       "        vertical-align: top;\n",
       "    }\n",
       "\n",
       "    .dataframe thead th {\n",
       "        text-align: right;\n",
       "    }\n",
       "</style>\n",
       "<table border=\"1\" class=\"dataframe\">\n",
       "  <thead>\n",
       "    <tr style=\"text-align: right;\">\n",
       "      <th></th>\n",
       "      <th>Cell Index</th>\n",
       "      <th>Cell X</th>\n",
       "      <th>Cell Y</th>\n",
       "      <th>Height</th>\n",
       "      <th>Azimuth</th>\n",
       "      <th>Electrical Downtilt</th>\n",
       "      <th>Mechanical Downtilt</th>\n",
       "      <th>Frequency Band</th>\n",
       "      <th>RS Power</th>\n",
       "      <th>Cell Altitude</th>\n",
       "      <th>Cell Building Height</th>\n",
       "      <th>Cell Clutter Index</th>\n",
       "      <th>X</th>\n",
       "      <th>Y</th>\n",
       "      <th>Altitude</th>\n",
       "      <th>Building Height</th>\n",
       "      <th>Clutter Index</th>\n",
       "      <th>RSRP</th>\n",
       "    </tr>\n",
       "  </thead>\n",
       "  <tbody>\n",
       "    <tr>\n",
       "      <th>0</th>\n",
       "      <td>1001701</td>\n",
       "      <td>424515.0</td>\n",
       "      <td>3376325.0</td>\n",
       "      <td>24</td>\n",
       "      <td>300</td>\n",
       "      <td>6</td>\n",
       "      <td>3</td>\n",
       "      <td>2585.0</td>\n",
       "      <td>16.2</td>\n",
       "      <td>504</td>\n",
       "      <td>0</td>\n",
       "      <td>5</td>\n",
       "      <td>424050</td>\n",
       "      <td>3376785</td>\n",
       "      <td>496</td>\n",
       "      <td>0</td>\n",
       "      <td>15</td>\n",
       "      <td>-102.20</td>\n",
       "    </tr>\n",
       "    <tr>\n",
       "      <th>1</th>\n",
       "      <td>1001701</td>\n",
       "      <td>424515.0</td>\n",
       "      <td>3376325.0</td>\n",
       "      <td>24</td>\n",
       "      <td>300</td>\n",
       "      <td>6</td>\n",
       "      <td>3</td>\n",
       "      <td>2585.0</td>\n",
       "      <td>16.2</td>\n",
       "      <td>504</td>\n",
       "      <td>0</td>\n",
       "      <td>5</td>\n",
       "      <td>424055</td>\n",
       "      <td>3376790</td>\n",
       "      <td>496</td>\n",
       "      <td>0</td>\n",
       "      <td>15</td>\n",
       "      <td>-100.75</td>\n",
       "    </tr>\n",
       "    <tr>\n",
       "      <th>2</th>\n",
       "      <td>1001701</td>\n",
       "      <td>424515.0</td>\n",
       "      <td>3376325.0</td>\n",
       "      <td>24</td>\n",
       "      <td>300</td>\n",
       "      <td>6</td>\n",
       "      <td>3</td>\n",
       "      <td>2585.0</td>\n",
       "      <td>16.2</td>\n",
       "      <td>504</td>\n",
       "      <td>0</td>\n",
       "      <td>5</td>\n",
       "      <td>424545</td>\n",
       "      <td>3376390</td>\n",
       "      <td>504</td>\n",
       "      <td>0</td>\n",
       "      <td>5</td>\n",
       "      <td>-70.20</td>\n",
       "    </tr>\n",
       "    <tr>\n",
       "      <th>3</th>\n",
       "      <td>1001701</td>\n",
       "      <td>424515.0</td>\n",
       "      <td>3376325.0</td>\n",
       "      <td>24</td>\n",
       "      <td>300</td>\n",
       "      <td>6</td>\n",
       "      <td>3</td>\n",
       "      <td>2585.0</td>\n",
       "      <td>16.2</td>\n",
       "      <td>504</td>\n",
       "      <td>0</td>\n",
       "      <td>5</td>\n",
       "      <td>424565</td>\n",
       "      <td>3376410</td>\n",
       "      <td>504</td>\n",
       "      <td>0</td>\n",
       "      <td>5</td>\n",
       "      <td>-65.25</td>\n",
       "    </tr>\n",
       "    <tr>\n",
       "      <th>4</th>\n",
       "      <td>1001701</td>\n",
       "      <td>424515.0</td>\n",
       "      <td>3376325.0</td>\n",
       "      <td>24</td>\n",
       "      <td>300</td>\n",
       "      <td>6</td>\n",
       "      <td>3</td>\n",
       "      <td>2585.0</td>\n",
       "      <td>16.2</td>\n",
       "      <td>504</td>\n",
       "      <td>0</td>\n",
       "      <td>5</td>\n",
       "      <td>424560</td>\n",
       "      <td>3376405</td>\n",
       "      <td>504</td>\n",
       "      <td>0</td>\n",
       "      <td>5</td>\n",
       "      <td>-64.20</td>\n",
       "    </tr>\n",
       "  </tbody>\n",
       "</table>\n",
       "</div>"
      ],
      "text/plain": [
       "   Cell Index    Cell X     Cell Y  Height  Azimuth  Electrical Downtilt  \\\n",
       "0     1001701  424515.0  3376325.0      24      300                    6   \n",
       "1     1001701  424515.0  3376325.0      24      300                    6   \n",
       "2     1001701  424515.0  3376325.0      24      300                    6   \n",
       "3     1001701  424515.0  3376325.0      24      300                    6   \n",
       "4     1001701  424515.0  3376325.0      24      300                    6   \n",
       "\n",
       "   Mechanical Downtilt  Frequency Band  RS Power  Cell Altitude  \\\n",
       "0                    3          2585.0      16.2            504   \n",
       "1                    3          2585.0      16.2            504   \n",
       "2                    3          2585.0      16.2            504   \n",
       "3                    3          2585.0      16.2            504   \n",
       "4                    3          2585.0      16.2            504   \n",
       "\n",
       "   Cell Building Height  Cell Clutter Index       X        Y  Altitude  \\\n",
       "0                     0                   5  424050  3376785       496   \n",
       "1                     0                   5  424055  3376790       496   \n",
       "2                     0                   5  424545  3376390       504   \n",
       "3                     0                   5  424565  3376410       504   \n",
       "4                     0                   5  424560  3376405       504   \n",
       "\n",
       "   Building Height  Clutter Index    RSRP  \n",
       "0                0             15 -102.20  \n",
       "1                0             15 -100.75  \n",
       "2                0              5  -70.20  \n",
       "3                0              5  -65.25  \n",
       "4                0              5  -64.20  "
      ]
     },
     "execution_count": 2,
     "metadata": {},
     "output_type": "execute_result"
    }
   ],
   "source": [
    "data_file = \"train/train_merge.csv\"\n",
    "data = pd.read_csv(data_file, header=None)\n",
    "data.columns = ['Cell Index','Cell X','Cell Y','Height','Azimuth','Electrical Downtilt','Mechanical Downtilt',\n",
    "                'Frequency Band','RS Power','Cell Altitude','Cell Building Height','Cell Clutter Index',\n",
    "                'X','Y','Altitude','Building Height','Clutter Index','RSRP']"
   ]
  },
  {
   "cell_type": "code",
   "execution_count": 14,
   "metadata": {},
   "outputs": [
    {
     "data": {
      "text/html": [
       "<div>\n",
       "<style scoped>\n",
       "    .dataframe tbody tr th:only-of-type {\n",
       "        vertical-align: middle;\n",
       "    }\n",
       "\n",
       "    .dataframe tbody tr th {\n",
       "        vertical-align: top;\n",
       "    }\n",
       "\n",
       "    .dataframe thead th {\n",
       "        text-align: right;\n",
       "    }\n",
       "</style>\n",
       "<table border=\"1\" class=\"dataframe\">\n",
       "  <thead>\n",
       "    <tr style=\"text-align: right;\">\n",
       "      <th></th>\n",
       "      <th>Cell Index</th>\n",
       "      <th>Cell X</th>\n",
       "      <th>Cell Y</th>\n",
       "      <th>Height</th>\n",
       "      <th>Azimuth</th>\n",
       "      <th>Electrical Downtilt</th>\n",
       "      <th>Mechanical Downtilt</th>\n",
       "      <th>Frequency Band</th>\n",
       "      <th>RS Power</th>\n",
       "      <th>Cell Altitude</th>\n",
       "      <th>Cell Building Height</th>\n",
       "      <th>Cell Clutter Index</th>\n",
       "      <th>X</th>\n",
       "      <th>Y</th>\n",
       "      <th>Altitude</th>\n",
       "      <th>Building Height</th>\n",
       "      <th>Clutter Index</th>\n",
       "    </tr>\n",
       "  </thead>\n",
       "  <tbody>\n",
       "    <tr>\n",
       "      <th>0</th>\n",
       "      <td>115001</td>\n",
       "      <td>414300.0</td>\n",
       "      <td>3391895.0</td>\n",
       "      <td>31</td>\n",
       "      <td>200</td>\n",
       "      <td>9</td>\n",
       "      <td>6</td>\n",
       "      <td>2585.0</td>\n",
       "      <td>6.2</td>\n",
       "      <td>497</td>\n",
       "      <td>24</td>\n",
       "      <td>5</td>\n",
       "      <td>414495</td>\n",
       "      <td>3391785</td>\n",
       "      <td>499</td>\n",
       "      <td>18</td>\n",
       "      <td>5</td>\n",
       "    </tr>\n",
       "    <tr>\n",
       "      <th>1</th>\n",
       "      <td>115001</td>\n",
       "      <td>414300.0</td>\n",
       "      <td>3391895.0</td>\n",
       "      <td>31</td>\n",
       "      <td>200</td>\n",
       "      <td>9</td>\n",
       "      <td>6</td>\n",
       "      <td>2585.0</td>\n",
       "      <td>6.2</td>\n",
       "      <td>497</td>\n",
       "      <td>24</td>\n",
       "      <td>5</td>\n",
       "      <td>414460</td>\n",
       "      <td>3391740</td>\n",
       "      <td>498</td>\n",
       "      <td>21</td>\n",
       "      <td>5</td>\n",
       "    </tr>\n",
       "    <tr>\n",
       "      <th>2</th>\n",
       "      <td>115001</td>\n",
       "      <td>414300.0</td>\n",
       "      <td>3391895.0</td>\n",
       "      <td>31</td>\n",
       "      <td>200</td>\n",
       "      <td>9</td>\n",
       "      <td>6</td>\n",
       "      <td>2585.0</td>\n",
       "      <td>6.2</td>\n",
       "      <td>497</td>\n",
       "      <td>24</td>\n",
       "      <td>5</td>\n",
       "      <td>414465</td>\n",
       "      <td>3391735</td>\n",
       "      <td>498</td>\n",
       "      <td>0</td>\n",
       "      <td>5</td>\n",
       "    </tr>\n",
       "    <tr>\n",
       "      <th>3</th>\n",
       "      <td>115001</td>\n",
       "      <td>414300.0</td>\n",
       "      <td>3391895.0</td>\n",
       "      <td>31</td>\n",
       "      <td>200</td>\n",
       "      <td>9</td>\n",
       "      <td>6</td>\n",
       "      <td>2585.0</td>\n",
       "      <td>6.2</td>\n",
       "      <td>497</td>\n",
       "      <td>24</td>\n",
       "      <td>5</td>\n",
       "      <td>414480</td>\n",
       "      <td>3391800</td>\n",
       "      <td>499</td>\n",
       "      <td>18</td>\n",
       "      <td>6</td>\n",
       "    </tr>\n",
       "    <tr>\n",
       "      <th>4</th>\n",
       "      <td>115001</td>\n",
       "      <td>414300.0</td>\n",
       "      <td>3391895.0</td>\n",
       "      <td>31</td>\n",
       "      <td>200</td>\n",
       "      <td>9</td>\n",
       "      <td>6</td>\n",
       "      <td>2585.0</td>\n",
       "      <td>6.2</td>\n",
       "      <td>497</td>\n",
       "      <td>24</td>\n",
       "      <td>5</td>\n",
       "      <td>414470</td>\n",
       "      <td>3391730</td>\n",
       "      <td>498</td>\n",
       "      <td>21</td>\n",
       "      <td>5</td>\n",
       "    </tr>\n",
       "  </tbody>\n",
       "</table>\n",
       "</div>"
      ],
      "text/plain": [
       "   Cell Index    Cell X     Cell Y  Height  Azimuth  Electrical Downtilt  \\\n",
       "0      115001  414300.0  3391895.0      31      200                    9   \n",
       "1      115001  414300.0  3391895.0      31      200                    9   \n",
       "2      115001  414300.0  3391895.0      31      200                    9   \n",
       "3      115001  414300.0  3391895.0      31      200                    9   \n",
       "4      115001  414300.0  3391895.0      31      200                    9   \n",
       "\n",
       "   Mechanical Downtilt  Frequency Band  RS Power  Cell Altitude  \\\n",
       "0                    6          2585.0       6.2            497   \n",
       "1                    6          2585.0       6.2            497   \n",
       "2                    6          2585.0       6.2            497   \n",
       "3                    6          2585.0       6.2            497   \n",
       "4                    6          2585.0       6.2            497   \n",
       "\n",
       "   Cell Building Height  Cell Clutter Index       X        Y  Altitude  \\\n",
       "0                    24                   5  414495  3391785       499   \n",
       "1                    24                   5  414460  3391740       498   \n",
       "2                    24                   5  414465  3391735       498   \n",
       "3                    24                   5  414480  3391800       499   \n",
       "4                    24                   5  414470  3391730       498   \n",
       "\n",
       "   Building Height  Clutter Index  \n",
       "0               18              5  \n",
       "1               21              5  \n",
       "2                0              5  \n",
       "3               18              6  \n",
       "4               21              5  "
      ]
     },
     "execution_count": 14,
     "metadata": {},
     "output_type": "execute_result"
    }
   ],
   "source": [
    "test_file = \"test/test_115001.csv\"\n",
    "test = pd.read_csv(test_file)\n",
    "test.head()"
   ]
  },
  {
   "cell_type": "markdown",
   "metadata": {},
   "source": [
    "data.info()"
   ]
  },
  {
   "cell_type": "markdown",
   "metadata": {},
   "source": [
    "data.describe()"
   ]
  },
  {
   "cell_type": "markdown",
   "metadata": {},
   "source": [
    "data['Clutter Index'].value_counts(dropna=False)"
   ]
  },
  {
   "cell_type": "markdown",
   "metadata": {},
   "source": [
    "sns.distplot(data['Clutter Index'],kde=False)\n",
    "fig = plt.figure(figsize=(10,6))\n",
    "data['Clutter Index'].hist(grid=False, bins=20, rwidth=0.9,color='#607c8e')"
   ]
  },
  {
   "cell_type": "markdown",
   "metadata": {},
   "source": [
    "### 特征工程"
   ]
  },
  {
   "cell_type": "code",
   "execution_count": 3,
   "metadata": {},
   "outputs": [],
   "source": [
    "## 生成相对距离特征\n",
    "data['relative_x'] = data['X'] - data['Cell X']\n",
    "data['relative_y'] = data['Y'] - data['Cell Y']\n",
    "data['distance'] = (data['relative_x']**2 + data['relative_y']**2)**0.5\n",
    "## 下倾角\n",
    "data['angle'] = data['Electrical Downtilt'] + data['Mechanical Downtilt']\n",
    "## 相对海拔高度\n",
    "data['relative_altitude'] = data['Cell Altitude'] - data['Altitude']"
   ]
  },
  {
   "cell_type": "code",
   "execution_count": 15,
   "metadata": {},
   "outputs": [],
   "source": [
    "## 生成相对距离特征\n",
    "test['relative_x'] = test['X'] - test['Cell X']\n",
    "test['relative_y'] = test['Y'] - test['Cell Y']\n",
    "test['distance'] = (test['relative_x']**2 + test['relative_y']**2)**0.5\n",
    "## 下倾角\n",
    "test['angle'] = test['Electrical Downtilt'] + test['Mechanical Downtilt']\n",
    "## 相对海拔高度\n",
    "test['relative_altitude'] = test['Cell Altitude'] - test['Altitude']"
   ]
  },
  {
   "cell_type": "code",
   "execution_count": 4,
   "metadata": {},
   "outputs": [],
   "source": [
    "## deltaHv\n",
    "data['deltaHv'] = data['Height'] - np.tan(data['angle']/180.0 * np.pi) * data['distance'] + data['Cell Altitude'] - data['Altitude']\n",
    "data['h_theta'] = 90 - np.arctan2(data['relative_y'], data['relative_x'])/np.pi * 180.0 - data['Azimuth']\n",
    "data['h_distance'] = 2*abs(np.sin(data['h_theta']/np.pi*180.0/2)) * data['distance']\n",
    "\n",
    "data['angle_level']=np.arctan2(data['X']-data['Cell X'],data['Y']-data['Cell Y'])*180/np.pi\n",
    "data['angle_level']=np.abs(data['Azimuth']-data['angle_level'])\n",
    "data['angle_level']= np.where(data['angle_level']<=180, data['angle_level'], 360.0 - data['angle_level'])"
   ]
  },
  {
   "cell_type": "code",
   "execution_count": 16,
   "metadata": {},
   "outputs": [],
   "source": [
    "## deltaHv\n",
    "test['deltaHv'] = test['Height'] - np.tan(test['angle']/180.0 * np.pi) * test['distance'] + test['Cell Altitude'] - test['Altitude']\n",
    "test['h_theta'] = 90 - np.arctan2(test['relative_y'], test['relative_x'])/np.pi * 180.0 - test['Azimuth']\n",
    "test['h_distance'] = 2*abs(np.sin(test['h_theta']/np.pi*180.0/2)) * test['distance']\n",
    "\n",
    "test['angle_level']=np.arctan2(test['X']-test['Cell X'],test['Y']-test['Cell Y'])*180/np.pi\n",
    "test['angle_level']=np.abs(test['Azimuth']-test['angle_level'])\n",
    "test['angle_level']= np.where(test['angle_level']<=180, test['angle_level'], 360.0 - test['angle_level'])"
   ]
  },
  {
   "cell_type": "code",
   "execution_count": 5,
   "metadata": {},
   "outputs": [
    {
     "data": {
      "text/plain": [
       "1803"
      ]
     },
     "execution_count": 5,
     "metadata": {},
     "output_type": "execute_result"
    }
   ],
   "source": [
    "## 查看多少个distance=0的样本数\n",
    "data[data['distance']==0].count()[0]"
   ]
  },
  {
   "cell_type": "code",
   "execution_count": 6,
   "metadata": {},
   "outputs": [],
   "source": [
    "## 将等于0的高度填充为均值\n",
    "data.loc[data['Height'] == 0,['Height']] = data['Height'].mean()\n",
    "## distance = 0的值 + 1\n",
    "data.loc[data['distance'] == 0,['distance']] = 1\n",
    "data.loc[data['h_distance'] == 0,['h_distance']] = 1"
   ]
  },
  {
   "cell_type": "code",
   "execution_count": 17,
   "metadata": {},
   "outputs": [],
   "source": [
    "## 将等于0的高度填充为均值\n",
    "test.loc[test['Height'] == 0,['Height']] = test['Height'].mean()\n",
    "## distance = 0的值 + 1\n",
    "test.loc[test['distance'] == 0,['distance']] = 1\n",
    "test.loc[test['h_distance'] == 0,['h_distance']] = 1"
   ]
  },
  {
   "cell_type": "code",
   "execution_count": 7,
   "metadata": {
    "scrolled": true
   },
   "outputs": [],
   "source": [
    "## RSRP 的中位数\n",
    "data['trick'] = data['RSRP'].median()"
   ]
  },
  {
   "cell_type": "code",
   "execution_count": 8,
   "metadata": {},
   "outputs": [],
   "source": [
    "# data['h_distance'].value_counts(dropna=False)"
   ]
  },
  {
   "cell_type": "code",
   "execution_count": 9,
   "metadata": {},
   "outputs": [],
   "source": [
    "## 对Height、Frequency Band和distance取log10\n",
    "data['Height'] = np.log10(data['Height'])\n",
    "data['Frequency Band'] = np.log10(data['Frequency Band'])\n",
    "data['distance'] = np.log10(data['distance'])\n",
    "data['h_distance'] = np.log10(data['h_distance'])"
   ]
  },
  {
   "cell_type": "code",
   "execution_count": 18,
   "metadata": {},
   "outputs": [],
   "source": [
    "## 对Height、Frequency Band和distance取log10\n",
    "test['Height'] = np.log10(test['Height'])\n",
    "test['Frequency Band'] = np.log10(test['Frequency Band'])\n",
    "test['distance'] = np.log10(test['distance'])\n",
    "test['h_distance'] = np.log10(test['h_distance'])"
   ]
  },
  {
   "cell_type": "markdown",
   "metadata": {},
   "source": [
    "### 盼盼算 efficient_distance"
   ]
  },
  {
   "cell_type": "code",
   "execution_count": 10,
   "metadata": {},
   "outputs": [],
   "source": [
    "data['_sigvec_x']=np.sin(data['Azimuth'])*np.cos(data['angle'])\n",
    "data['_sigvec_y']=np.cos(data['Azimuth'])*np.cos(data['angle'])\n",
    "data['_sigvec_z']=np.sin(data['angle'])\n",
    "data['_cellvec_x']=data['X']-data['Cell X']\n",
    "data['_cellvec_y']=data['Y']-data['Cell Y']\n",
    "data['_cellvec_z']=data['Altitude']-data['Cell Altitude']\n",
    "data['_forkvec_x']=data['_sigvec_y']*data['_cellvec_z']-data['_sigvec_z']*data['_cellvec_y']\n",
    "data['_forkvec_y']=data['_sigvec_z']*data['_cellvec_x']-data['_sigvec_x']*data['_cellvec_z']\n",
    "data['_forkvec_z']=data['_sigvec_x']*data['_cellvec_y']-data['_sigvec_y']*data['_cellvec_x']\n",
    "data['_mo_fork']=np.sqrt(np.square(data['_forkvec_x'])+np.square(data['_forkvec_y'])+np.square(data['_forkvec_z'])) \n",
    "data['_mo_sig']=np.sqrt(np.square(data['_sigvec_x'])+np.square(data['_sigvec_y'])+np.square(data['_sigvec_z']))\n",
    "data['_linear_distance']=data['_mo_fork']/data['_mo_sig']\n",
    "data['_point_distance']=np.sqrt(np.square(data['_cellvec_x'])+np.square(data['_cellvec_y'])+np.square(data['_cellvec_z']))\n",
    "data['_cosin_symbol']=(data['_sigvec_x']*data['_cellvec_x']+data['_sigvec_y']*data['_cellvec_y']+data['_sigvec_z']*data['_cellvec_z'])\n",
    "data['efficient_distance']=np.where(data['_cosin_symbol']>0,data['_linear_distance'],data['_point_distance'])\n",
    "data.loc[data['efficient_distance'] == 0,['efficient_distance']] = 1\n",
    "data['efficient_distance'] = np.log10(data['efficient_distance'])"
   ]
  },
  {
   "cell_type": "code",
   "execution_count": 19,
   "metadata": {},
   "outputs": [],
   "source": [
    "test['_sigvec_x']=np.sin(test['Azimuth'])*np.cos(test['angle'])\n",
    "test['_sigvec_y']=np.cos(test['Azimuth'])*np.cos(test['angle'])\n",
    "test['_sigvec_z']=np.sin(test['angle'])\n",
    "test['_cellvec_x']=test['X']-test['Cell X']\n",
    "test['_cellvec_y']=test['Y']-test['Cell Y']\n",
    "test['_cellvec_z']=test['Altitude']-test['Cell Altitude']\n",
    "test['_forkvec_x']=test['_sigvec_y']*test['_cellvec_z']-test['_sigvec_z']*test['_cellvec_y']\n",
    "test['_forkvec_y']=test['_sigvec_z']*test['_cellvec_x']-test['_sigvec_x']*test['_cellvec_z']\n",
    "test['_forkvec_z']=test['_sigvec_x']*test['_cellvec_y']-test['_sigvec_y']*test['_cellvec_x']\n",
    "test['_mo_fork']=np.sqrt(np.square(test['_forkvec_x'])+np.square(test['_forkvec_y'])+np.square(test['_forkvec_z'])) \n",
    "test['_mo_sig']=np.sqrt(np.square(test['_sigvec_x'])+np.square(test['_sigvec_y'])+np.square(test['_sigvec_z']))\n",
    "test['_linear_distance']=test['_mo_fork']/test['_mo_sig']\n",
    "test['_point_distance']=np.sqrt(np.square(test['_cellvec_x'])+np.square(test['_cellvec_y'])+np.square(test['_cellvec_z']))\n",
    "test['_cosin_symbol']=(test['_sigvec_x']*test['_cellvec_x']+test['_sigvec_y']*test['_cellvec_y']+test['_sigvec_z']*test['_cellvec_z'])\n",
    "test['efficient_distance']=np.where(test['_cosin_symbol']>0,test['_linear_distance'],test['_point_distance'])\n",
    "test.loc[test['efficient_distance'] == 0,['efficient_distance']] = 1\n",
    "test['efficient_distance'] = np.log10(test['efficient_distance'])"
   ]
  },
  {
   "cell_type": "code",
   "execution_count": 11,
   "metadata": {},
   "outputs": [
    {
     "data": {
      "text/plain": [
       "Index(['Cell Index', 'Cell X', 'Cell Y', 'Height', 'Azimuth',\n",
       "       'Electrical Downtilt', 'Mechanical Downtilt', 'Frequency Band',\n",
       "       'RS Power', 'Cell Altitude', 'Cell Building Height',\n",
       "       'Cell Clutter Index', 'X', 'Y', 'Altitude', 'Building Height',\n",
       "       'Clutter Index', 'RSRP', 'relative_x', 'relative_y', 'distance',\n",
       "       'angle', 'relative_altitude', 'deltaHv', 'h_theta', 'h_distance',\n",
       "       'angle_level', 'trick', '_sigvec_x', '_sigvec_y', '_sigvec_z',\n",
       "       '_cellvec_x', '_cellvec_y', '_cellvec_z', '_forkvec_x', '_forkvec_y',\n",
       "       '_forkvec_z', '_mo_fork', '_mo_sig', '_linear_distance',\n",
       "       '_point_distance', '_cosin_symbol', 'efficient_distance'],\n",
       "      dtype='object')"
      ]
     },
     "execution_count": 11,
     "metadata": {},
     "output_type": "execute_result"
    }
   ],
   "source": [
    "data.columns"
   ]
  },
  {
   "cell_type": "code",
   "execution_count": 20,
   "metadata": {},
   "outputs": [
    {
     "data": {
      "text/plain": [
       "Index(['Cell Index', 'Cell X', 'Cell Y', 'Height', 'Azimuth',\n",
       "       'Electrical Downtilt', 'Mechanical Downtilt', 'Frequency Band',\n",
       "       'RS Power', 'Cell Altitude', 'Cell Building Height',\n",
       "       'Cell Clutter Index', 'X', 'Y', 'Altitude', 'Building Height',\n",
       "       'Clutter Index', 'relative_x', 'relative_y', 'distance', 'angle',\n",
       "       'relative_altitude', 'deltaHv', 'h_theta', 'h_distance', 'angle_level',\n",
       "       '_sigvec_x', '_sigvec_y', '_sigvec_z', '_cellvec_x', '_cellvec_y',\n",
       "       '_cellvec_z', '_forkvec_x', '_forkvec_y', '_forkvec_z', '_mo_fork',\n",
       "       '_mo_sig', '_linear_distance', '_point_distance', '_cosin_symbol',\n",
       "       'efficient_distance'],\n",
       "      dtype='object')"
      ]
     },
     "execution_count": 20,
     "metadata": {},
     "output_type": "execute_result"
    }
   ],
   "source": [
    "test.columns"
   ]
  },
  {
   "cell_type": "code",
   "execution_count": 12,
   "metadata": {},
   "outputs": [],
   "source": [
    "data.drop(['_sigvec_x', '_sigvec_y', '_sigvec_z', '_cellvec_x',\n",
    "       '_cellvec_y', '_cellvec_z', '_forkvec_x', '_forkvec_y', '_forkvec_z',\n",
    "       '_mo_fork', '_mo_sig', '_linear_distance', '_point_distance',\n",
    "       '_cosin_symbol'],axis = 1, inplace = True)"
   ]
  },
  {
   "cell_type": "code",
   "execution_count": 21,
   "metadata": {},
   "outputs": [],
   "source": [
    "test.drop(['_sigvec_x', '_sigvec_y', '_sigvec_z', '_cellvec_x',\n",
    "       '_cellvec_y', '_cellvec_z', '_forkvec_x', '_forkvec_y', '_forkvec_z',\n",
    "       '_mo_fork', '_mo_sig', '_linear_distance', '_point_distance',\n",
    "       '_cosin_symbol'],axis = 1, inplace = True)"
   ]
  },
  {
   "cell_type": "code",
   "execution_count": 23,
   "metadata": {},
   "outputs": [
    {
     "data": {
      "text/plain": [
       "8311738"
      ]
     },
     "execution_count": 23,
     "metadata": {},
     "output_type": "execute_result"
    }
   ],
   "source": [
    "data[data['Cell Building Height']==0].count()[0]"
   ]
  },
  {
   "cell_type": "code",
   "execution_count": 26,
   "metadata": {},
   "outputs": [
    {
     "data": {
      "text/plain": [
       "0"
      ]
     },
     "execution_count": 26,
     "metadata": {},
     "output_type": "execute_result"
    }
   ],
   "source": [
    "test[test['Cell Building Height']==0].count()[0]"
   ]
  },
  {
   "cell_type": "markdown",
   "metadata": {},
   "source": [
    "#### 添加 Cell Building Height 是否为0的列"
   ]
  },
  {
   "cell_type": "code",
   "execution_count": 24,
   "metadata": {},
   "outputs": [
    {
     "data": {
      "text/plain": [
       "0    8311738\n",
       "1    3700095\n",
       "Name: C_B_H_is_zero, dtype: int64"
      ]
     },
     "execution_count": 24,
     "metadata": {},
     "output_type": "execute_result"
    }
   ],
   "source": [
    "data['C_B_H_is_zero'] = 0\n",
    "data.loc[data['Cell Building Height']!=0, ['C_B_H_is_zero']] = 1\n",
    "data['C_B_H_is_zero'].value_counts()"
   ]
  },
  {
   "cell_type": "code",
   "execution_count": 25,
   "metadata": {},
   "outputs": [
    {
     "data": {
      "text/plain": [
       "1    5011\n",
       "Name: C_B_H_is_zero, dtype: int64"
      ]
     },
     "execution_count": 25,
     "metadata": {},
     "output_type": "execute_result"
    }
   ],
   "source": [
    "test['C_B_H_is_zero'] = 0\n",
    "test.loc[test['Cell Building Height']!=0, ['C_B_H_is_zero']] = 1\n",
    "test['C_B_H_is_zero'].value_counts()"
   ]
  },
  {
   "cell_type": "markdown",
   "metadata": {},
   "source": [
    "#### 添加 Building Height 是否为0的列"
   ]
  },
  {
   "cell_type": "code",
   "execution_count": 27,
   "metadata": {},
   "outputs": [
    {
     "data": {
      "text/plain": [
       "0    10238987\n",
       "1     1772846\n",
       "Name: B_H_is_zero, dtype: int64"
      ]
     },
     "execution_count": 27,
     "metadata": {},
     "output_type": "execute_result"
    }
   ],
   "source": [
    "data['B_H_is_zero'] = 0\n",
    "data.loc[data['Building Height']!=0, ['B_H_is_zero']] = 1\n",
    "data['B_H_is_zero'].value_counts()"
   ]
  },
  {
   "cell_type": "code",
   "execution_count": 28,
   "metadata": {},
   "outputs": [
    {
     "data": {
      "text/plain": [
       "0    4413\n",
       "1     598\n",
       "Name: B_H_is_zero, dtype: int64"
      ]
     },
     "execution_count": 28,
     "metadata": {},
     "output_type": "execute_result"
    }
   ],
   "source": [
    "test['B_H_is_zero'] = 0\n",
    "test.loc[test['Building Height']!=0, ['B_H_is_zero']] = 1\n",
    "test['B_H_is_zero'].value_counts()"
   ]
  },
  {
   "cell_type": "markdown",
   "metadata": {},
   "source": [
    "### 相关性分析"
   ]
  },
  {
   "cell_type": "code",
   "execution_count": 29,
   "metadata": {},
   "outputs": [
    {
     "data": {
      "text/plain": [
       "Index(['Cell Index', 'Cell X', 'Cell Y', 'Height', 'Azimuth',\n",
       "       'Electrical Downtilt', 'Mechanical Downtilt', 'Frequency Band',\n",
       "       'RS Power', 'Cell Altitude', 'Cell Building Height',\n",
       "       'Cell Clutter Index', 'X', 'Y', 'Altitude', 'Building Height',\n",
       "       'Clutter Index', 'RSRP', 'relative_x', 'relative_y', 'distance',\n",
       "       'angle', 'relative_altitude', 'deltaHv', 'h_theta', 'h_distance',\n",
       "       'angle_level', 'trick', 'efficient_distance', 'C_B_H_is_zero',\n",
       "       'B_H_is_zero'],\n",
       "      dtype='object')"
      ]
     },
     "execution_count": 29,
     "metadata": {},
     "output_type": "execute_result"
    }
   ],
   "source": [
    "data.columns"
   ]
  },
  {
   "cell_type": "code",
   "execution_count": 31,
   "metadata": {},
   "outputs": [
    {
     "data": {
      "text/plain": [
       "Index(['Cell Index', 'Cell X', 'Cell Y', 'Height', 'Azimuth',\n",
       "       'Electrical Downtilt', 'Mechanical Downtilt', 'Frequency Band',\n",
       "       'RS Power', 'Cell Altitude', 'Cell Building Height',\n",
       "       'Cell Clutter Index', 'X', 'Y', 'Altitude', 'Building Height',\n",
       "       'Clutter Index', 'relative_x', 'relative_y', 'distance', 'angle',\n",
       "       'relative_altitude', 'deltaHv', 'h_theta', 'h_distance', 'angle_level',\n",
       "       'efficient_distance', 'B_H_is_zero', 'C_B_H_is_zero'],\n",
       "      dtype='object')"
      ]
     },
     "execution_count": 31,
     "metadata": {},
     "output_type": "execute_result"
    }
   ],
   "source": [
    "test.columns"
   ]
  },
  {
   "cell_type": "code",
   "execution_count": 30,
   "metadata": {},
   "outputs": [
    {
     "data": {
      "text/plain": [
       "(12011833, 31)"
      ]
     },
     "execution_count": 30,
     "metadata": {},
     "output_type": "execute_result"
    }
   ],
   "source": [
    "data.shape"
   ]
  },
  {
   "cell_type": "code",
   "execution_count": 32,
   "metadata": {},
   "outputs": [
    {
     "data": {
      "text/plain": [
       "(5011, 29)"
      ]
     },
     "execution_count": 32,
     "metadata": {},
     "output_type": "execute_result"
    }
   ],
   "source": [
    "test.shape"
   ]
  },
  {
   "cell_type": "code",
   "execution_count": 34,
   "metadata": {
    "scrolled": true
   },
   "outputs": [
    {
     "data": {
      "image/png": "[encoded data removed]",
      "text/plain": [
       "<Figure size 1440x1440 with 2 Axes>"
      ]
     },
     "metadata": {},
     "output_type": "display_data"
    }
   ],
   "source": [
    "corrmat = data.corr()\n",
    "fig = plt.figure(figsize=(20,20))\n",
    "#correlation matrix\n",
    "k = 31 #number of variables for heatmap\n",
    "cols = corrmat.nlargest(k, 'RSRP')['RSRP'].index\n",
    "cm = np.corrcoef(data[cols].values.T)\n",
    "sns.set(font_scale=1)\n",
    "hm = sns.heatmap(cm, cbar=True, annot=True, square=True, fmt='.2f', annot_kws={'size': 10}, yticklabels=cols.values, xticklabels=cols.values)\n",
    "plt.show()"
   ]
  },
  {
   "cell_type": "code",
   "execution_count": 35,
   "metadata": {},
   "outputs": [],
   "source": [
    "# new_data = data.drop(['Cell Index','Cell X', 'Cell Y','X', 'Y','relative_x', 'relative_y','Height', \n",
    "#                       'Electrical Downtilt', 'Mechanical Downtilt', \n",
    "#                       'angle','Azimuth','relative_altitude', 'Cell Building Height'], axis = 1)"
   ]
  },
  {
   "cell_type": "code",
   "execution_count": 36,
   "metadata": {},
   "outputs": [],
   "source": [
    "# new_data.shape"
   ]
  },
  {
   "cell_type": "code",
   "execution_count": 37,
   "metadata": {
    "scrolled": true
   },
   "outputs": [],
   "source": [
    "# corrmat = new_data.corr()\n",
    "# fig = plt.figure(figsize=(20,20))\n",
    "# #correlation matrix\n",
    "# k = 17 #number of variables for heatmap\n",
    "# cols = corrmat.nlargest(k, 'RSRP')['RSRP'].index\n",
    "# cm = np.corrcoef(new_data[cols].values.T)\n",
    "# sns.set(font_scale=1)\n",
    "# hm = sns.heatmap(cm, cbar=True, annot=True, square=True, fmt='.2f', annot_kws={'size': 10}, yticklabels=cols.values, xticklabels=cols.values)\n",
    "# plt.show()"
   ]
  },
  {
   "cell_type": "markdown",
   "metadata": {},
   "source": [
    "### 查看 distance 的箱线图\n",
    "sns.boxplot(x=\"distance\", y=\"RSRP\", data=new_data.iloc[:10000,:])"
   ]
  },
  {
   "cell_type": "code",
   "execution_count": null,
   "metadata": {},
   "outputs": [],
   "source": [
    "# new_data.head()"
   ]
  },
  {
   "cell_type": "code",
   "execution_count": null,
   "metadata": {},
   "outputs": [],
   "source": [
    "# new_data.describe()"
   ]
  },
  {
   "cell_type": "code",
   "execution_count": 38,
   "metadata": {},
   "outputs": [],
   "source": [
    "## 标准化\n",
    "# from sklearn.preprocessing import StandardScaler\n",
    "# import warnings\n",
    "# warnings.filterwarnings(\"ignore\")\n",
    "\n",
    "# scaler = StandardScaler()\n",
    "# scaler.fit(new_data['Altitude'].values.reshape(-1,1))\n",
    "# new_data['Altitude_scaled'] = scaler.transform(new_data['Altitude'].values.reshape(-1,1))\n",
    "\n",
    "# scaler.fit(new_data['Cell Altitude'].values.reshape(-1,1))\n",
    "# new_data['Cell_Altitude_scaled'] = scaler.transform(new_data['Cell Altitude'].values.reshape(-1,1))\n",
    "\n",
    "# scaler.fit(new_data['Building Height'].values.reshape(-1,1))\n",
    "# new_data['Building_Height_scaled'] = scaler.transform(new_data['Building Height'].values.reshape(-1,1))\n",
    "\n",
    "# scaler.fit(new_data['deltaHv'].values.reshape(-1,1))\n",
    "# new_data['deltaHv_scaled'] = scaler.transform(new_data['deltaHv'].values.reshape(-1,1))\n",
    " \n",
    "# scaler.fit(new_data['h_theta'].values.reshape(-1,1))\n",
    "# new_data['h_theta_scaled'] = scaler.transform(new_data['h_theta'].values.reshape(-1,1))\n",
    "\n",
    "# scaler.fit(new_data['angle_level'].values.reshape(-1,1))\n",
    "# new_data['angle_level_scaled'] = scaler.transform(new_data['angle_level'].values.reshape(-1,1))\n",
    " \n",
    "# new_data.drop(['Altitude','Cell Altitude','Building Height','deltaHv','h_theta','angle_level'], axis=1, inplace=True)\n",
    " \n",
    "# new_data.head()"
   ]
  },
  {
   "cell_type": "code",
   "execution_count": 39,
   "metadata": {},
   "outputs": [],
   "source": [
    "# new_data.shape"
   ]
  },
  {
   "cell_type": "markdown",
   "metadata": {},
   "source": [
    "### onehot 编码"
   ]
  },
  {
   "cell_type": "code",
   "execution_count": 40,
   "metadata": {},
   "outputs": [
    {
     "data": {
      "text/html": [
       "<div>\n",
       "<style scoped>\n",
       "    .dataframe tbody tr th:only-of-type {\n",
       "        vertical-align: middle;\n",
       "    }\n",
       "\n",
       "    .dataframe tbody tr th {\n",
       "        vertical-align: top;\n",
       "    }\n",
       "\n",
       "    .dataframe thead th {\n",
       "        text-align: right;\n",
       "    }\n",
       "</style>\n",
       "<table border=\"1\" class=\"dataframe\">\n",
       "  <thead>\n",
       "    <tr style=\"text-align: right;\">\n",
       "      <th></th>\n",
       "      <th>Cell Index</th>\n",
       "      <th>Cell X</th>\n",
       "      <th>Cell Y</th>\n",
       "      <th>Height</th>\n",
       "      <th>Azimuth</th>\n",
       "      <th>Electrical Downtilt</th>\n",
       "      <th>Mechanical Downtilt</th>\n",
       "      <th>Frequency Band</th>\n",
       "      <th>RS Power</th>\n",
       "      <th>Cell Altitude</th>\n",
       "      <th>...</th>\n",
       "      <th>Clutter_Index_8</th>\n",
       "      <th>Clutter_Index_10</th>\n",
       "      <th>Clutter_Index_11</th>\n",
       "      <th>Clutter_Index_12</th>\n",
       "      <th>Clutter_Index_13</th>\n",
       "      <th>Clutter_Index_14</th>\n",
       "      <th>Clutter_Index_15</th>\n",
       "      <th>Clutter_Index_16</th>\n",
       "      <th>Clutter_Index_17</th>\n",
       "      <th>Clutter_Index_18</th>\n",
       "    </tr>\n",
       "  </thead>\n",
       "  <tbody>\n",
       "    <tr>\n",
       "      <th>0</th>\n",
       "      <td>1001701</td>\n",
       "      <td>424515.0</td>\n",
       "      <td>3376325.0</td>\n",
       "      <td>1.380211</td>\n",
       "      <td>300</td>\n",
       "      <td>6</td>\n",
       "      <td>3</td>\n",
       "      <td>3.412461</td>\n",
       "      <td>16.2</td>\n",
       "      <td>504</td>\n",
       "      <td>...</td>\n",
       "      <td>0</td>\n",
       "      <td>0</td>\n",
       "      <td>0</td>\n",
       "      <td>0</td>\n",
       "      <td>0</td>\n",
       "      <td>0</td>\n",
       "      <td>1</td>\n",
       "      <td>0</td>\n",
       "      <td>0</td>\n",
       "      <td>0</td>\n",
       "    </tr>\n",
       "    <tr>\n",
       "      <th>1</th>\n",
       "      <td>1001701</td>\n",
       "      <td>424515.0</td>\n",
       "      <td>3376325.0</td>\n",
       "      <td>1.380211</td>\n",
       "      <td>300</td>\n",
       "      <td>6</td>\n",
       "      <td>3</td>\n",
       "      <td>3.412461</td>\n",
       "      <td>16.2</td>\n",
       "      <td>504</td>\n",
       "      <td>...</td>\n",
       "      <td>0</td>\n",
       "      <td>0</td>\n",
       "      <td>0</td>\n",
       "      <td>0</td>\n",
       "      <td>0</td>\n",
       "      <td>0</td>\n",
       "      <td>1</td>\n",
       "      <td>0</td>\n",
       "      <td>0</td>\n",
       "      <td>0</td>\n",
       "    </tr>\n",
       "    <tr>\n",
       "      <th>2</th>\n",
       "      <td>1001701</td>\n",
       "      <td>424515.0</td>\n",
       "      <td>3376325.0</td>\n",
       "      <td>1.380211</td>\n",
       "      <td>300</td>\n",
       "      <td>6</td>\n",
       "      <td>3</td>\n",
       "      <td>3.412461</td>\n",
       "      <td>16.2</td>\n",
       "      <td>504</td>\n",
       "      <td>...</td>\n",
       "      <td>0</td>\n",
       "      <td>0</td>\n",
       "      <td>0</td>\n",
       "      <td>0</td>\n",
       "      <td>0</td>\n",
       "      <td>0</td>\n",
       "      <td>0</td>\n",
       "      <td>0</td>\n",
       "      <td>0</td>\n",
       "      <td>0</td>\n",
       "    </tr>\n",
       "    <tr>\n",
       "      <th>3</th>\n",
       "      <td>1001701</td>\n",
       "      <td>424515.0</td>\n",
       "      <td>3376325.0</td>\n",
       "      <td>1.380211</td>\n",
       "      <td>300</td>\n",
       "      <td>6</td>\n",
       "      <td>3</td>\n",
       "      <td>3.412461</td>\n",
       "      <td>16.2</td>\n",
       "      <td>504</td>\n",
       "      <td>...</td>\n",
       "      <td>0</td>\n",
       "      <td>0</td>\n",
       "      <td>0</td>\n",
       "      <td>0</td>\n",
       "      <td>0</td>\n",
       "      <td>0</td>\n",
       "      <td>0</td>\n",
       "      <td>0</td>\n",
       "      <td>0</td>\n",
       "      <td>0</td>\n",
       "    </tr>\n",
       "    <tr>\n",
       "      <th>4</th>\n",
       "      <td>1001701</td>\n",
       "      <td>424515.0</td>\n",
       "      <td>3376325.0</td>\n",
       "      <td>1.380211</td>\n",
       "      <td>300</td>\n",
       "      <td>6</td>\n",
       "      <td>3</td>\n",
       "      <td>3.412461</td>\n",
       "      <td>16.2</td>\n",
       "      <td>504</td>\n",
       "      <td>...</td>\n",
       "      <td>0</td>\n",
       "      <td>0</td>\n",
       "      <td>0</td>\n",
       "      <td>0</td>\n",
       "      <td>0</td>\n",
       "      <td>0</td>\n",
       "      <td>0</td>\n",
       "      <td>0</td>\n",
       "      <td>0</td>\n",
       "      <td>0</td>\n",
       "    </tr>\n",
       "  </tbody>\n",
       "</table>\n",
       "<p>5 rows × 58 columns</p>\n",
       "</div>"
      ],
      "text/plain": [
       "   Cell Index    Cell X     Cell Y    Height  Azimuth  Electrical Downtilt  \\\n",
       "0     1001701  424515.0  3376325.0  1.380211      300                    6   \n",
       "1     1001701  424515.0  3376325.0  1.380211      300                    6   \n",
       "2     1001701  424515.0  3376325.0  1.380211      300                    6   \n",
       "3     1001701  424515.0  3376325.0  1.380211      300                    6   \n",
       "4     1001701  424515.0  3376325.0  1.380211      300                    6   \n",
       "\n",
       "   Mechanical Downtilt  Frequency Band  RS Power  Cell Altitude  ...  \\\n",
       "0                    3        3.412461      16.2            504  ...   \n",
       "1                    3        3.412461      16.2            504  ...   \n",
       "2                    3        3.412461      16.2            504  ...   \n",
       "3                    3        3.412461      16.2            504  ...   \n",
       "4                    3        3.412461      16.2            504  ...   \n",
       "\n",
       "   Clutter_Index_8  Clutter_Index_10  Clutter_Index_11  Clutter_Index_12  \\\n",
       "0                0                 0                 0                 0   \n",
       "1                0                 0                 0                 0   \n",
       "2                0                 0                 0                 0   \n",
       "3                0                 0                 0                 0   \n",
       "4                0                 0                 0                 0   \n",
       "\n",
       "   Clutter_Index_13  Clutter_Index_14  Clutter_Index_15  Clutter_Index_16  \\\n",
       "0                 0                 0                 1                 0   \n",
       "1                 0                 0                 1                 0   \n",
       "2                 0                 0                 0                 0   \n",
       "3                 0                 0                 0                 0   \n",
       "4                 0                 0                 0                 0   \n",
       "\n",
       "   Clutter_Index_17  Clutter_Index_18  \n",
       "0                 0                 0  \n",
       "1                 0                 0  \n",
       "2                 0                 0  \n",
       "3                 0                 0  \n",
       "4                 0                 0  \n",
       "\n",
       "[5 rows x 58 columns]"
      ]
     },
     "execution_count": 40,
     "metadata": {},
     "output_type": "execute_result"
    }
   ],
   "source": [
    "data_dummies_C_B_H = pd.get_dummies(data['C_B_H_is_zero'], prefix='C_B_H_is_zero')  \n",
    "data_dummies_B_H = pd.get_dummies(data['B_H_is_zero'], prefix='B_H_is_zero')  \n",
    "data_dummies_cell_clutter_index = pd.get_dummies(data['Cell Clutter Index'], prefix='Cell_Clutter_Index')  \n",
    "data_dummies_clutter_index = pd.get_dummies(data['Clutter Index'], prefix='Clutter_Index')  \n",
    "data_df = pd.concat([data, data_dummies_C_B_H,data_dummies_B_H, data_dummies_cell_clutter_index, data_dummies_clutter_index],axis =1)  \n",
    "\n",
    "data_df.drop(['C_B_H_is_zero','B_H_is_zero','Cell Clutter Index', 'Clutter Index'], axis=1, inplace=True)  \n",
    "data_df.head()  \n",
    "#实验证明 Clutter Index onehot 对最后结果的影响不大"
   ]
  },
  {
   "cell_type": "code",
   "execution_count": 41,
   "metadata": {},
   "outputs": [
    {
     "data": {
      "text/html": [
       "<div>\n",
       "<style scoped>\n",
       "    .dataframe tbody tr th:only-of-type {\n",
       "        vertical-align: middle;\n",
       "    }\n",
       "\n",
       "    .dataframe tbody tr th {\n",
       "        vertical-align: top;\n",
       "    }\n",
       "\n",
       "    .dataframe thead th {\n",
       "        text-align: right;\n",
       "    }\n",
       "</style>\n",
       "<table border=\"1\" class=\"dataframe\">\n",
       "  <thead>\n",
       "    <tr style=\"text-align: right;\">\n",
       "      <th></th>\n",
       "      <th>Cell Index</th>\n",
       "      <th>Cell X</th>\n",
       "      <th>Cell Y</th>\n",
       "      <th>Height</th>\n",
       "      <th>Azimuth</th>\n",
       "      <th>Electrical Downtilt</th>\n",
       "      <th>Mechanical Downtilt</th>\n",
       "      <th>Frequency Band</th>\n",
       "      <th>RS Power</th>\n",
       "      <th>Cell Altitude</th>\n",
       "      <th>...</th>\n",
       "      <th>B_H_is_zero_0</th>\n",
       "      <th>B_H_is_zero_1</th>\n",
       "      <th>Cell_Clutter_Index_5</th>\n",
       "      <th>Clutter_Index_2</th>\n",
       "      <th>Clutter_Index_5</th>\n",
       "      <th>Clutter_Index_6</th>\n",
       "      <th>Clutter_Index_7</th>\n",
       "      <th>Clutter_Index_12</th>\n",
       "      <th>Clutter_Index_13</th>\n",
       "      <th>Clutter_Index_14</th>\n",
       "    </tr>\n",
       "  </thead>\n",
       "  <tbody>\n",
       "    <tr>\n",
       "      <th>0</th>\n",
       "      <td>115001</td>\n",
       "      <td>414300.0</td>\n",
       "      <td>3391895.0</td>\n",
       "      <td>1.491362</td>\n",
       "      <td>200</td>\n",
       "      <td>9</td>\n",
       "      <td>6</td>\n",
       "      <td>3.412461</td>\n",
       "      <td>6.2</td>\n",
       "      <td>497</td>\n",
       "      <td>...</td>\n",
       "      <td>0</td>\n",
       "      <td>1</td>\n",
       "      <td>1</td>\n",
       "      <td>0</td>\n",
       "      <td>1</td>\n",
       "      <td>0</td>\n",
       "      <td>0</td>\n",
       "      <td>0</td>\n",
       "      <td>0</td>\n",
       "      <td>0</td>\n",
       "    </tr>\n",
       "    <tr>\n",
       "      <th>1</th>\n",
       "      <td>115001</td>\n",
       "      <td>414300.0</td>\n",
       "      <td>3391895.0</td>\n",
       "      <td>1.491362</td>\n",
       "      <td>200</td>\n",
       "      <td>9</td>\n",
       "      <td>6</td>\n",
       "      <td>3.412461</td>\n",
       "      <td>6.2</td>\n",
       "      <td>497</td>\n",
       "      <td>...</td>\n",
       "      <td>0</td>\n",
       "      <td>1</td>\n",
       "      <td>1</td>\n",
       "      <td>0</td>\n",
       "      <td>1</td>\n",
       "      <td>0</td>\n",
       "      <td>0</td>\n",
       "      <td>0</td>\n",
       "      <td>0</td>\n",
       "      <td>0</td>\n",
       "    </tr>\n",
       "    <tr>\n",
       "      <th>2</th>\n",
       "      <td>115001</td>\n",
       "      <td>414300.0</td>\n",
       "      <td>3391895.0</td>\n",
       "      <td>1.491362</td>\n",
       "      <td>200</td>\n",
       "      <td>9</td>\n",
       "      <td>6</td>\n",
       "      <td>3.412461</td>\n",
       "      <td>6.2</td>\n",
       "      <td>497</td>\n",
       "      <td>...</td>\n",
       "      <td>1</td>\n",
       "      <td>0</td>\n",
       "      <td>1</td>\n",
       "      <td>0</td>\n",
       "      <td>1</td>\n",
       "      <td>0</td>\n",
       "      <td>0</td>\n",
       "      <td>0</td>\n",
       "      <td>0</td>\n",
       "      <td>0</td>\n",
       "    </tr>\n",
       "    <tr>\n",
       "      <th>3</th>\n",
       "      <td>115001</td>\n",
       "      <td>414300.0</td>\n",
       "      <td>3391895.0</td>\n",
       "      <td>1.491362</td>\n",
       "      <td>200</td>\n",
       "      <td>9</td>\n",
       "      <td>6</td>\n",
       "      <td>3.412461</td>\n",
       "      <td>6.2</td>\n",
       "      <td>497</td>\n",
       "      <td>...</td>\n",
       "      <td>0</td>\n",
       "      <td>1</td>\n",
       "      <td>1</td>\n",
       "      <td>0</td>\n",
       "      <td>0</td>\n",
       "      <td>1</td>\n",
       "      <td>0</td>\n",
       "      <td>0</td>\n",
       "      <td>0</td>\n",
       "      <td>0</td>\n",
       "    </tr>\n",
       "    <tr>\n",
       "      <th>4</th>\n",
       "      <td>115001</td>\n",
       "      <td>414300.0</td>\n",
       "      <td>3391895.0</td>\n",
       "      <td>1.491362</td>\n",
       "      <td>200</td>\n",
       "      <td>9</td>\n",
       "      <td>6</td>\n",
       "      <td>3.412461</td>\n",
       "      <td>6.2</td>\n",
       "      <td>497</td>\n",
       "      <td>...</td>\n",
       "      <td>0</td>\n",
       "      <td>1</td>\n",
       "      <td>1</td>\n",
       "      <td>0</td>\n",
       "      <td>1</td>\n",
       "      <td>0</td>\n",
       "      <td>0</td>\n",
       "      <td>0</td>\n",
       "      <td>0</td>\n",
       "      <td>0</td>\n",
       "    </tr>\n",
       "  </tbody>\n",
       "</table>\n",
       "<p>5 rows × 36 columns</p>\n",
       "</div>"
      ],
      "text/plain": [
       "   Cell Index    Cell X     Cell Y    Height  Azimuth  Electrical Downtilt  \\\n",
       "0      115001  414300.0  3391895.0  1.491362      200                    9   \n",
       "1      115001  414300.0  3391895.0  1.491362      200                    9   \n",
       "2      115001  414300.0  3391895.0  1.491362      200                    9   \n",
       "3      115001  414300.0  3391895.0  1.491362      200                    9   \n",
       "4      115001  414300.0  3391895.0  1.491362      200                    9   \n",
       "\n",
       "   Mechanical Downtilt  Frequency Band  RS Power  Cell Altitude  ...  \\\n",
       "0                    6        3.412461       6.2            497  ...   \n",
       "1                    6        3.412461       6.2            497  ...   \n",
       "2                    6        3.412461       6.2            497  ...   \n",
       "3                    6        3.412461       6.2            497  ...   \n",
       "4                    6        3.412461       6.2            497  ...   \n",
       "\n",
       "   B_H_is_zero_0  B_H_is_zero_1  Cell_Clutter_Index_5  Clutter_Index_2  \\\n",
       "0              0              1                     1                0   \n",
       "1              0              1                     1                0   \n",
       "2              1              0                     1                0   \n",
       "3              0              1                     1                0   \n",
       "4              0              1                     1                0   \n",
       "\n",
       "   Clutter_Index_5  Clutter_Index_6  Clutter_Index_7  Clutter_Index_12  \\\n",
       "0                1                0                0                 0   \n",
       "1                1                0                0                 0   \n",
       "2                1                0                0                 0   \n",
       "3                0                1                0                 0   \n",
       "4                1                0                0                 0   \n",
       "\n",
       "   Clutter_Index_13  Clutter_Index_14  \n",
       "0                 0                 0  \n",
       "1                 0                 0  \n",
       "2                 0                 0  \n",
       "3                 0                 0  \n",
       "4                 0                 0  \n",
       "\n",
       "[5 rows x 36 columns]"
      ]
     },
     "execution_count": 41,
     "metadata": {},
     "output_type": "execute_result"
    }
   ],
   "source": [
    "test_dummies_C_B_H = pd.get_dummies(test['C_B_H_is_zero'], prefix='C_B_H_is_zero')  \n",
    "test_dummies_B_H = pd.get_dummies(test['B_H_is_zero'], prefix='B_H_is_zero')  \n",
    "test_dummies_cell_clutter_index = pd.get_dummies(test['Cell Clutter Index'], prefix='Cell_Clutter_Index')  \n",
    "test_dummies_clutter_index = pd.get_dummies(test['Clutter Index'], prefix='Clutter_Index')  \n",
    "test_df = pd.concat([test, test_dummies_C_B_H,test_dummies_B_H, test_dummies_cell_clutter_index, test_dummies_clutter_index],axis =1)  \n",
    "\n",
    "test_df.drop(['C_B_H_is_zero','B_H_is_zero','Cell Clutter Index', 'Clutter Index'], axis=1, inplace=True)  \n",
    "test_df.head()  "
   ]
  },
  {
   "cell_type": "code",
   "execution_count": 42,
   "metadata": {},
   "outputs": [],
   "source": [
    "# data_dummies_C_B_H = pd.get_dummies(data['C_B_H_is_zero'], prefix='C_B_H_is_zero')\n",
    "# data_dummies_B_H = pd.get_dummies(data['B_H_is_zero'], prefix='B_H_is_zero')\n",
    "# data_df = pd.concat([data, data_dummies_C_B_H,data_dummies_B_H],axis =1)\n",
    "\n",
    "# data_df.drop(['C_B_H_is_zero','B_H_is_zero'], axis=1, inplace=True)\n",
    "# data_df.head()"
   ]
  },
  {
   "cell_type": "code",
   "execution_count": 43,
   "metadata": {},
   "outputs": [],
   "source": [
    "# data_df.columns"
   ]
  },
  {
   "cell_type": "markdown",
   "metadata": {},
   "source": [
    "corrmat = new_data.corr()\n",
    "fig = plt.figure(figsize=(20,20))\n",
    "correlation matrix\n",
    "k = 19 #number of variables for heatmap\n",
    "cols = corrmat.nlargest(k, 'RSRP')['RSRP'].index\n",
    "cm = np.corrcoef(new_data[cols].values.T)\n",
    "sns.set(font_scale=1)\n",
    "hm = sns.heatmap(cm, cbar=True, annot=True, square=True, fmt='.2f', annot_kws={'size': 10}, yticklabels=cols.values, xticklabels=cols.values)\n",
    "plt.show()"
   ]
  },
  {
   "cell_type": "markdown",
   "metadata": {},
   "source": [
    "data_df.to_csv(\"train/first_process.csv\", index = False)"
   ]
  },
  {
   "cell_type": "code",
   "execution_count": 44,
   "metadata": {},
   "outputs": [],
   "source": [
    "label = data_df['RSRP']"
   ]
  },
  {
   "cell_type": "code",
   "execution_count": 46,
   "metadata": {},
   "outputs": [
    {
     "data": {
      "text/plain": [
       "(12011833, 56)"
      ]
     },
     "execution_count": 46,
     "metadata": {},
     "output_type": "execute_result"
    }
   ],
   "source": [
    "train = data_df.drop(['RSRP','trick'],axis = 1)\n",
    "train.shape"
   ]
  },
  {
   "cell_type": "code",
   "execution_count": 48,
   "metadata": {},
   "outputs": [
    {
     "data": {
      "text/plain": [
       "(5011, 36)"
      ]
     },
     "execution_count": 48,
     "metadata": {},
     "output_type": "execute_result"
    }
   ],
   "source": [
    "test = test_df\n",
    "test.shape"
   ]
  },
  {
   "cell_type": "code",
   "execution_count": 49,
   "metadata": {},
   "outputs": [],
   "source": [
    "#histogram and normal probability plot\n",
    "# sns.distplot(train['RSRP']);\n",
    "# fig = plt.figure()"
   ]
  },
  {
   "cell_type": "code",
   "execution_count": 50,
   "metadata": {},
   "outputs": [
    {
     "data": {
      "text/plain": [
       "Index(['Cell Index', 'Cell X', 'Cell Y', 'Height', 'Azimuth',\n",
       "       'Electrical Downtilt', 'Mechanical Downtilt', 'Frequency Band',\n",
       "       'RS Power', 'Cell Altitude', 'Cell Building Height', 'X', 'Y',\n",
       "       'Altitude', 'Building Height', 'RSRP', 'relative_x', 'relative_y',\n",
       "       'distance', 'angle', 'relative_altitude', 'deltaHv', 'h_theta',\n",
       "       'h_distance', 'angle_level', 'trick', 'efficient_distance',\n",
       "       'C_B_H_is_zero_0', 'C_B_H_is_zero_1', 'B_H_is_zero_0', 'B_H_is_zero_1',\n",
       "       'Cell_Clutter_Index_2', 'Cell_Clutter_Index_5', 'Cell_Clutter_Index_6',\n",
       "       'Cell_Clutter_Index_7', 'Cell_Clutter_Index_8', 'Cell_Clutter_Index_10',\n",
       "       'Cell_Clutter_Index_11', 'Cell_Clutter_Index_12',\n",
       "       'Cell_Clutter_Index_13', 'Cell_Clutter_Index_14',\n",
       "       'Cell_Clutter_Index_15', 'Cell_Clutter_Index_17',\n",
       "       'Cell_Clutter_Index_18', 'Clutter_Index_2', 'Clutter_Index_5',\n",
       "       'Clutter_Index_6', 'Clutter_Index_7', 'Clutter_Index_8',\n",
       "       'Clutter_Index_10', 'Clutter_Index_11', 'Clutter_Index_12',\n",
       "       'Clutter_Index_13', 'Clutter_Index_14', 'Clutter_Index_15',\n",
       "       'Clutter_Index_16', 'Clutter_Index_17', 'Clutter_Index_18'],\n",
       "      dtype='object')"
      ]
     },
     "execution_count": 50,
     "metadata": {},
     "output_type": "execute_result"
    }
   ],
   "source": [
    "data_df.columns"
   ]
  },
  {
   "cell_type": "code",
   "execution_count": 51,
   "metadata": {},
   "outputs": [
    {
     "data": {
      "text/plain": [
       "(12011833, 56)"
      ]
     },
     "execution_count": 51,
     "metadata": {},
     "output_type": "execute_result"
    }
   ],
   "source": [
    "train.shape"
   ]
  },
  {
   "cell_type": "code",
   "execution_count": 53,
   "metadata": {},
   "outputs": [
    {
     "ename": "ValueError",
     "evalue": "Number of features of the model must match the input. Model n_features is 56 and input n_features is 36 ",
     "output_type": "error",
     "traceback": [
      "\u001b[1;31m---------------------------------------------------------------------------\u001b[0m",
      "\u001b[1;31mValueError\u001b[0m                                Traceback (most recent call last)",
      "\u001b[1;32m<ipython-input-53-90b17f9f0f4c>\u001b[0m in \u001b[0;36m<module>\u001b[1;34m()\u001b[0m\n\u001b[0;32m     42\u001b[0m \u001b[0mmodel\u001b[0m \u001b[1;33m=\u001b[0m \u001b[0mDecisionTreeRegressor\u001b[0m\u001b[1;33m(\u001b[0m\u001b[1;33m)\u001b[0m   \u001b[1;31m#建立模型\u001b[0m\u001b[1;33m\u001b[0m\u001b[0m\n\u001b[0;32m     43\u001b[0m \u001b[0mmodel\u001b[0m\u001b[1;33m.\u001b[0m\u001b[0mfit\u001b[0m\u001b[1;33m(\u001b[0m\u001b[0mtrain\u001b[0m\u001b[1;33m,\u001b[0m\u001b[0mlabel\u001b[0m\u001b[1;33m)\u001b[0m\u001b[1;33m\u001b[0m\u001b[0m\n\u001b[1;32m---> 44\u001b[1;33m \u001b[0my_pred\u001b[0m \u001b[1;33m=\u001b[0m \u001b[0mmodel\u001b[0m\u001b[1;33m.\u001b[0m\u001b[0mpredict\u001b[0m\u001b[1;33m(\u001b[0m\u001b[0mtest\u001b[0m\u001b[1;33m)\u001b[0m\u001b[1;33m\u001b[0m\u001b[0m\n\u001b[0m\u001b[0;32m     45\u001b[0m \u001b[1;31m# score = model.score(x_test,y_test)\u001b[0m\u001b[1;33m\u001b[0m\u001b[1;33m\u001b[0m\u001b[0m\n\u001b[0;32m     46\u001b[0m \u001b[1;31m# # score_.append(str(score)[:5])\u001b[0m\u001b[1;33m\u001b[0m\u001b[1;33m\u001b[0m\u001b[0m\n",
      "\u001b[1;32mC:\\ProgramData\\Anaconda3\\lib\\site-packages\\sklearn\\tree\\tree.py\u001b[0m in \u001b[0;36mpredict\u001b[1;34m(self, X, check_input)\u001b[0m\n\u001b[0;32m    410\u001b[0m         \"\"\"\n\u001b[0;32m    411\u001b[0m         \u001b[0mcheck_is_fitted\u001b[0m\u001b[1;33m(\u001b[0m\u001b[0mself\u001b[0m\u001b[1;33m,\u001b[0m \u001b[1;34m'tree_'\u001b[0m\u001b[1;33m)\u001b[0m\u001b[1;33m\u001b[0m\u001b[0m\n\u001b[1;32m--> 412\u001b[1;33m         \u001b[0mX\u001b[0m \u001b[1;33m=\u001b[0m \u001b[0mself\u001b[0m\u001b[1;33m.\u001b[0m\u001b[0m_validate_X_predict\u001b[0m\u001b[1;33m(\u001b[0m\u001b[0mX\u001b[0m\u001b[1;33m,\u001b[0m \u001b[0mcheck_input\u001b[0m\u001b[1;33m)\u001b[0m\u001b[1;33m\u001b[0m\u001b[0m\n\u001b[0m\u001b[0;32m    413\u001b[0m         \u001b[0mproba\u001b[0m \u001b[1;33m=\u001b[0m \u001b[0mself\u001b[0m\u001b[1;33m.\u001b[0m\u001b[0mtree_\u001b[0m\u001b[1;33m.\u001b[0m\u001b[0mpredict\u001b[0m\u001b[1;33m(\u001b[0m\u001b[0mX\u001b[0m\u001b[1;33m)\u001b[0m\u001b[1;33m\u001b[0m\u001b[0m\n\u001b[0;32m    414\u001b[0m         \u001b[0mn_samples\u001b[0m \u001b[1;33m=\u001b[0m \u001b[0mX\u001b[0m\u001b[1;33m.\u001b[0m\u001b[0mshape\u001b[0m\u001b[1;33m[\u001b[0m\u001b[1;36m0\u001b[0m\u001b[1;33m]\u001b[0m\u001b[1;33m\u001b[0m\u001b[0m\n",
      "\u001b[1;32mC:\\ProgramData\\Anaconda3\\lib\\site-packages\\sklearn\\tree\\tree.py\u001b[0m in \u001b[0;36m_validate_X_predict\u001b[1;34m(self, X, check_input)\u001b[0m\n\u001b[0;32m    382\u001b[0m                              \u001b[1;34m\"match the input. Model n_features is %s and \"\u001b[0m\u001b[1;33m\u001b[0m\u001b[0m\n\u001b[0;32m    383\u001b[0m                              \u001b[1;34m\"input n_features is %s \"\u001b[0m\u001b[1;33m\u001b[0m\u001b[0m\n\u001b[1;32m--> 384\u001b[1;33m                              % (self.n_features_, n_features))\n\u001b[0m\u001b[0;32m    385\u001b[0m \u001b[1;33m\u001b[0m\u001b[0m\n\u001b[0;32m    386\u001b[0m         \u001b[1;32mreturn\u001b[0m \u001b[0mX\u001b[0m\u001b[1;33m\u001b[0m\u001b[0m\n",
      "\u001b[1;31mValueError\u001b[0m: Number of features of the model must match the input. Model n_features is 56 and input n_features is 36 "
     ]
    }
   ],
   "source": [
    "## 回归模型拟合\n",
    "from sklearn.model_selection import train_test_split\n",
    "from sklearn.preprocessing import StandardScaler\n",
    "\n",
    "from sklearn.linear_model import LinearRegression\n",
    "from sklearn.neighbors import KNeighborsRegressor\n",
    "from sklearn.svm import SVR\n",
    "from sklearn.linear_model import Lasso\n",
    "from sklearn.linear_model import Ridge\n",
    "from sklearn.neural_network import MLPRegressor\n",
    "from sklearn.tree import DecisionTreeRegressor\n",
    "from sklearn.tree import ExtraTreeRegressor\n",
    "from xgboost import XGBRegressor\n",
    "from sklearn.ensemble import RandomForestRegressor\n",
    "from sklearn.ensemble import AdaBoostRegressor\n",
    "from sklearn.ensemble import GradientBoostingRegressor\n",
    "from sklearn.ensemble import BaggingRegressor\n",
    "\n",
    "#models=[LinearRegression(),KNeighborsRegressor(),SVR(),Ridge(),Lasso(),MLPRegressor(alpha=20),DecisionTreeRegressor(),ExtraTreeRegressor(),XGBRegressor(),RandomForestRegressor(),AdaBoostRegressor(),GradientBoostingRegressor(),BaggingRegressor()]\n",
    "#models_str=['LinearRegression','KNNRegressor','SVR','Ridge','Lasso','MLPRegressor','DecisionTree','ExtraTree','XGBoost','RandomForest','AdaBoost','GradientBoost','Bagging']\n",
    "models=[LinearRegression(),\n",
    "        DecisionTreeRegressor()]\n",
    "        #XGBRegressor(max_depth=5, learning_rate=0.1, n_estimators=10),\n",
    "        #MLPRegressor(hidden_layer_sizes=(6,2),  activation='relu', solver='adam', alpha=0.0001),\n",
    "        #RandomForestRegressor(),\n",
    "        #AdaBoostRegressor(),\n",
    "        #GradientBoostingRegressor(),\n",
    "        #BaggingRegressor()]\n",
    "models_str=['LinearRegression','DecisionTree','XGBoost','MLPRegressor','RandomForest','AdaBoost','GradientBoost','Bagging']\n",
    "score_=[]\n",
    "\n",
    "#x_train, x_test, y_train, y_test = train_test_split(train, label, test_size = 0.3, random_state = 1)\n",
    "\n",
    "# for name,model in zip(models_str,models):\n",
    "#     print('开始训练模型：'+name)\n",
    "#     model=model   #建立模型\n",
    "#     model.fit(x_train,y_train)\n",
    "#     y_pred=model.predict(x_test)  \n",
    "#     score=model.score(x_test,y_test)\n",
    "#     score_.append(str(score)[:5])\n",
    "#     print(name +' 得分:'+str(score))\n",
    "model = DecisionTreeRegressor()   #建立模型\n",
    "model.fit(train,label)\n",
    "y_pred = model.predict(test)\n",
    "# score = model.score(x_test,y_test)\n",
    "# # score_.append(str(score)[:5])\n",
    "# # print(name +' 得分:'+str(score))\n",
    "# print(score)"
   ]
  },
  {
   "cell_type": "code",
   "execution_count": null,
   "metadata": {},
   "outputs": [],
   "source": [
    "from sklearn.metrics import mean_squared_error,mean_absolute_error,r2_score\n",
    "mse = mean_squared_error(y_test, y_pred)\n",
    "rmse = mse ** 0.5\n",
    "mae = mean_absolute_error(y_test, y_pred)\n",
    "r2 = r2_score(y_test,y_pred)\n",
    "print(\"MSE: \",mse)\n",
    "print(\"RMSE: \",rmse)\n",
    "print(\"MAE: \",mae)\n",
    "print(\"R2: \",r2)"
   ]
  },
  {
   "cell_type": "code",
   "execution_count": null,
   "metadata": {},
   "outputs": [],
   "source": [
    "def calculate_pcrr(y_true, y_pred):\n",
    "    t = -103\n",
    "    tp = len(y_true[(y_true < t) & (y_pred < t)])\n",
    "    fp = len(y_true[(y_true >= t) & (y_pred < t)])\n",
    "    fn = len(y_true[(y_true < t) & (y_pred >= t)])\n",
    "    precision = tp/(tp+fp)\n",
    "    recall = tp/(tp+fn)\n",
    "    pcrr = 2*(precision*recall)/(precision + recall)\n",
    "    return pcrr\n",
    "pcrr = calculate_pcrr(y_test,y_pred)  \n",
    "print(pcrr)"
   ]
  },
  {
   "cell_type": "markdown",
   "metadata": {},
   "source": [
    "#### 实验结果\n",
    "DecisionTreeRegressor：  \n",
    "pcrr: 0.6085233542012393  \n",
    "MSE:  45.080667681286506  \n",
    "RMSE:  6.714213854300927  \n",
    "MAE:  4.628338424609066  \n",
    "R2:  0.6070688989654098  \n",
    "*********\n",
    "pcrr: 0.6091614329605914   \n",
    "MSE:  45.121796661736326  \n",
    "RMSE:  6.717275985229156  \n",
    "MAE:  4.628315777497192  \n",
    "R2:  0.6067104114716835   "
   ]
  },
  {
   "cell_type": "code",
   "execution_count": null,
   "metadata": {},
   "outputs": [],
   "source": []
  }
 ],
 "metadata": {
  "kernelspec": {
   "display_name": "Python 3",
   "language": "python",
   "name": "python3"
  },
  "language_info": {
   "codemirror_mode": {
    "name": "ipython",
    "version": 3
   },
   "file_extension": ".py",
   "mimetype": "text/x-python",
   "name": "python",
   "nbconvert_exporter": "python",
   "pygments_lexer": "ipython3",
   "version": "3.6.5"
  }
 },
 "nbformat": 4,
 "nbformat_minor": 2
}
